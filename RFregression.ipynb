{
 "cells": [
  {
   "cell_type": "code",
   "execution_count": 78,
   "metadata": {},
   "outputs": [],
   "source": [
    "import pandas as pd\n",
    "import numpy as np\n",
    "import matplotlib.pyplot as plt\n",
    "import seaborn as sns\n",
    "import sklearn\n",
    "import warnings\n",
    "\n",
    "from sklearn.model_selection import train_test_split\n",
    "from sklearn.metrics import f1_score, mean_absolute_error, mean_squared_error, r2_score\n",
    "from sklearn.ensemble import RandomForestRegressor\n",
    "\n",
    "warnings.filterwarnings('ignore')"
   ]
  },
  {
   "cell_type": "code",
   "execution_count": 79,
   "metadata": {},
   "outputs": [
    {
     "data": {
      "text/html": [
       "<div>\n",
       "<style scoped>\n",
       "    .dataframe tbody tr th:only-of-type {\n",
       "        vertical-align: middle;\n",
       "    }\n",
       "\n",
       "    .dataframe tbody tr th {\n",
       "        vertical-align: top;\n",
       "    }\n",
       "\n",
       "    .dataframe thead th {\n",
       "        text-align: right;\n",
       "    }\n",
       "</style>\n",
       "<table border=\"1\" class=\"dataframe\">\n",
       "  <thead>\n",
       "    <tr style=\"text-align: right;\">\n",
       "      <th></th>\n",
       "      <th>Account No</th>\n",
       "      <th>August 2022</th>\n",
       "      <th>September 2022</th>\n",
       "      <th>October 2022</th>\n",
       "      <th>November 2022</th>\n",
       "      <th>December 2022</th>\n",
       "      <th>January 2023</th>\n",
       "      <th>February 2023</th>\n",
       "      <th>March 2023</th>\n",
       "      <th>April 2023</th>\n",
       "      <th>May 2023</th>\n",
       "      <th>June 2023</th>\n",
       "      <th>July 2023</th>\n",
       "      <th>August 2023</th>\n",
       "      <th>September 2023</th>\n",
       "      <th>October 2023</th>\n",
       "      <th>November 2023</th>\n",
       "      <th>December 2023</th>\n",
       "      <th>January 2024</th>\n",
       "    </tr>\n",
       "  </thead>\n",
       "  <tbody>\n",
       "    <tr>\n",
       "      <th>0</th>\n",
       "      <td>400000081726</td>\n",
       "      <td>96</td>\n",
       "      <td>109</td>\n",
       "      <td>126</td>\n",
       "      <td>113</td>\n",
       "      <td>90</td>\n",
       "      <td>63</td>\n",
       "      <td>64</td>\n",
       "      <td>77</td>\n",
       "      <td>97</td>\n",
       "      <td>119</td>\n",
       "      <td>137</td>\n",
       "      <td>132</td>\n",
       "      <td>118</td>\n",
       "      <td>93</td>\n",
       "      <td>104</td>\n",
       "      <td>114</td>\n",
       "      <td>84</td>\n",
       "      <td>80</td>\n",
       "    </tr>\n",
       "    <tr>\n",
       "      <th>1</th>\n",
       "      <td>400000081793</td>\n",
       "      <td>180</td>\n",
       "      <td>152</td>\n",
       "      <td>158</td>\n",
       "      <td>169</td>\n",
       "      <td>140</td>\n",
       "      <td>118</td>\n",
       "      <td>116</td>\n",
       "      <td>125</td>\n",
       "      <td>148</td>\n",
       "      <td>175</td>\n",
       "      <td>192</td>\n",
       "      <td>207</td>\n",
       "      <td>192</td>\n",
       "      <td>160</td>\n",
       "      <td>186</td>\n",
       "      <td>185</td>\n",
       "      <td>154</td>\n",
       "      <td>122</td>\n",
       "    </tr>\n",
       "    <tr>\n",
       "      <th>2</th>\n",
       "      <td>400000081807</td>\n",
       "      <td>745</td>\n",
       "      <td>870</td>\n",
       "      <td>659</td>\n",
       "      <td>613</td>\n",
       "      <td>425</td>\n",
       "      <td>364</td>\n",
       "      <td>334</td>\n",
       "      <td>505</td>\n",
       "      <td>626</td>\n",
       "      <td>714</td>\n",
       "      <td>852</td>\n",
       "      <td>899</td>\n",
       "      <td>779</td>\n",
       "      <td>591</td>\n",
       "      <td>658</td>\n",
       "      <td>570</td>\n",
       "      <td>368</td>\n",
       "      <td>363</td>\n",
       "    </tr>\n",
       "    <tr>\n",
       "      <th>3</th>\n",
       "      <td>400000081815</td>\n",
       "      <td>511</td>\n",
       "      <td>495</td>\n",
       "      <td>412</td>\n",
       "      <td>286</td>\n",
       "      <td>222</td>\n",
       "      <td>178</td>\n",
       "      <td>177</td>\n",
       "      <td>254</td>\n",
       "      <td>559</td>\n",
       "      <td>620</td>\n",
       "      <td>760</td>\n",
       "      <td>443</td>\n",
       "      <td>330</td>\n",
       "      <td>339</td>\n",
       "      <td>387</td>\n",
       "      <td>345</td>\n",
       "      <td>292</td>\n",
       "      <td>210</td>\n",
       "    </tr>\n",
       "    <tr>\n",
       "      <th>4</th>\n",
       "      <td>400000081823</td>\n",
       "      <td>983</td>\n",
       "      <td>582</td>\n",
       "      <td>472</td>\n",
       "      <td>463</td>\n",
       "      <td>332</td>\n",
       "      <td>230</td>\n",
       "      <td>212</td>\n",
       "      <td>292</td>\n",
       "      <td>346</td>\n",
       "      <td>430</td>\n",
       "      <td>479</td>\n",
       "      <td>463</td>\n",
       "      <td>428</td>\n",
       "      <td>405</td>\n",
       "      <td>419</td>\n",
       "      <td>418</td>\n",
       "      <td>270</td>\n",
       "      <td>211</td>\n",
       "    </tr>\n",
       "  </tbody>\n",
       "</table>\n",
       "</div>"
      ],
      "text/plain": [
       "     Account No  August 2022  September 2022  October 2022  November 2022  \\\n",
       "0  400000081726           96             109           126            113   \n",
       "1  400000081793          180             152           158            169   \n",
       "2  400000081807          745             870           659            613   \n",
       "3  400000081815          511             495           412            286   \n",
       "4  400000081823          983             582           472            463   \n",
       "\n",
       "   December 2022  January 2023  February 2023  March 2023  April 2023  \\\n",
       "0             90            63             64          77          97   \n",
       "1            140           118            116         125         148   \n",
       "2            425           364            334         505         626   \n",
       "3            222           178            177         254         559   \n",
       "4            332           230            212         292         346   \n",
       "\n",
       "   May 2023  June 2023  July 2023  August 2023  September 2023  October 2023  \\\n",
       "0       119        137        132          118              93           104   \n",
       "1       175        192        207          192             160           186   \n",
       "2       714        852        899          779             591           658   \n",
       "3       620        760        443          330             339           387   \n",
       "4       430        479        463          428             405           419   \n",
       "\n",
       "   November 2023  December 2023  January 2024  \n",
       "0            114             84            80  \n",
       "1            185            154           122  \n",
       "2            570            368           363  \n",
       "3            345            292           210  \n",
       "4            418            270           211  "
      ]
     },
     "execution_count": 79,
     "metadata": {},
     "output_type": "execute_result"
    }
   ],
   "source": [
    "df= pd.read_csv('Data.csv')\n",
    "df.head()"
   ]
  },
  {
   "cell_type": "code",
   "execution_count": 80,
   "metadata": {},
   "outputs": [
    {
     "name": "stdout",
     "output_type": "stream",
     "text": [
      "<class 'pandas.core.frame.DataFrame'>\n",
      "RangeIndex: 1535 entries, 0 to 1534\n",
      "Data columns (total 19 columns):\n",
      " #   Column          Non-Null Count  Dtype\n",
      "---  ------          --------------  -----\n",
      " 0   Account No      1535 non-null   int64\n",
      " 1   August 2022     1535 non-null   int64\n",
      " 2   September 2022  1535 non-null   int64\n",
      " 3   October 2022    1535 non-null   int64\n",
      " 4   November 2022   1535 non-null   int64\n",
      " 5   December 2022   1535 non-null   int64\n",
      " 6   January 2023    1535 non-null   int64\n",
      " 7   February 2023   1535 non-null   int64\n",
      " 8   March 2023      1535 non-null   int64\n",
      " 9   April 2023      1535 non-null   int64\n",
      " 10  May 2023        1535 non-null   int64\n",
      " 11  June 2023       1535 non-null   int64\n",
      " 12  July 2023       1535 non-null   int64\n",
      " 13  August 2023     1535 non-null   int64\n",
      " 14  September 2023  1535 non-null   int64\n",
      " 15  October 2023    1535 non-null   int64\n",
      " 16  November 2023   1535 non-null   int64\n",
      " 17  December 2023   1535 non-null   int64\n",
      " 18  January 2024    1535 non-null   int64\n",
      "dtypes: int64(19)\n",
      "memory usage: 228.0 KB\n"
     ]
    }
   ],
   "source": [
    "df.info()"
   ]
  },
  {
   "cell_type": "code",
   "execution_count": 81,
   "metadata": {},
   "outputs": [],
   "source": [
    "# we dont really need account no for our model\n",
    "df = df.drop('Account No', axis=1)\n",
    "df_shifted = df.shift(-1, axis=1)\n",
    "\n",
    "X = df.iloc[:, :-1].values\n",
    "y = df_shifted.iloc[:, 1].values"
   ]
  },
  {
   "cell_type": "code",
   "execution_count": 82,
   "metadata": {},
   "outputs": [],
   "source": [
    "X_train, X_test, y_train, y_test = train_test_split(X, y, test_size=0.2, random_state=42)"
   ]
  },
  {
   "cell_type": "code",
   "execution_count": 83,
   "metadata": {},
   "outputs": [
    {
     "data": {
      "text/html": [
       "<style>#sk-container-id-8 {color: black;}#sk-container-id-8 pre{padding: 0;}#sk-container-id-8 div.sk-toggleable {background-color: white;}#sk-container-id-8 label.sk-toggleable__label {cursor: pointer;display: block;width: 100%;margin-bottom: 0;padding: 0.3em;box-sizing: border-box;text-align: center;}#sk-container-id-8 label.sk-toggleable__label-arrow:before {content: \"▸\";float: left;margin-right: 0.25em;color: #696969;}#sk-container-id-8 label.sk-toggleable__label-arrow:hover:before {color: black;}#sk-container-id-8 div.sk-estimator:hover label.sk-toggleable__label-arrow:before {color: black;}#sk-container-id-8 div.sk-toggleable__content {max-height: 0;max-width: 0;overflow: hidden;text-align: left;background-color: #f0f8ff;}#sk-container-id-8 div.sk-toggleable__content pre {margin: 0.2em;color: black;border-radius: 0.25em;background-color: #f0f8ff;}#sk-container-id-8 input.sk-toggleable__control:checked~div.sk-toggleable__content {max-height: 200px;max-width: 100%;overflow: auto;}#sk-container-id-8 input.sk-toggleable__control:checked~label.sk-toggleable__label-arrow:before {content: \"▾\";}#sk-container-id-8 div.sk-estimator input.sk-toggleable__control:checked~label.sk-toggleable__label {background-color: #d4ebff;}#sk-container-id-8 div.sk-label input.sk-toggleable__control:checked~label.sk-toggleable__label {background-color: #d4ebff;}#sk-container-id-8 input.sk-hidden--visually {border: 0;clip: rect(1px 1px 1px 1px);clip: rect(1px, 1px, 1px, 1px);height: 1px;margin: -1px;overflow: hidden;padding: 0;position: absolute;width: 1px;}#sk-container-id-8 div.sk-estimator {font-family: monospace;background-color: #f0f8ff;border: 1px dotted black;border-radius: 0.25em;box-sizing: border-box;margin-bottom: 0.5em;}#sk-container-id-8 div.sk-estimator:hover {background-color: #d4ebff;}#sk-container-id-8 div.sk-parallel-item::after {content: \"\";width: 100%;border-bottom: 1px solid gray;flex-grow: 1;}#sk-container-id-8 div.sk-label:hover label.sk-toggleable__label {background-color: #d4ebff;}#sk-container-id-8 div.sk-serial::before {content: \"\";position: absolute;border-left: 1px solid gray;box-sizing: border-box;top: 0;bottom: 0;left: 50%;z-index: 0;}#sk-container-id-8 div.sk-serial {display: flex;flex-direction: column;align-items: center;background-color: white;padding-right: 0.2em;padding-left: 0.2em;position: relative;}#sk-container-id-8 div.sk-item {position: relative;z-index: 1;}#sk-container-id-8 div.sk-parallel {display: flex;align-items: stretch;justify-content: center;background-color: white;position: relative;}#sk-container-id-8 div.sk-item::before, #sk-container-id-8 div.sk-parallel-item::before {content: \"\";position: absolute;border-left: 1px solid gray;box-sizing: border-box;top: 0;bottom: 0;left: 50%;z-index: -1;}#sk-container-id-8 div.sk-parallel-item {display: flex;flex-direction: column;z-index: 1;position: relative;background-color: white;}#sk-container-id-8 div.sk-parallel-item:first-child::after {align-self: flex-end;width: 50%;}#sk-container-id-8 div.sk-parallel-item:last-child::after {align-self: flex-start;width: 50%;}#sk-container-id-8 div.sk-parallel-item:only-child::after {width: 0;}#sk-container-id-8 div.sk-dashed-wrapped {border: 1px dashed gray;margin: 0 0.4em 0.5em 0.4em;box-sizing: border-box;padding-bottom: 0.4em;background-color: white;}#sk-container-id-8 div.sk-label label {font-family: monospace;font-weight: bold;display: inline-block;line-height: 1.2em;}#sk-container-id-8 div.sk-label-container {text-align: center;}#sk-container-id-8 div.sk-container {/* jupyter's `normalize.less` sets `[hidden] { display: none; }` but bootstrap.min.css set `[hidden] { display: none !important; }` so we also need the `!important` here to be able to override the default hidden behavior on the sphinx rendered scikit-learn.org. See: https://github.com/scikit-learn/scikit-learn/issues/21755 */display: inline-block !important;position: relative;}#sk-container-id-8 div.sk-text-repr-fallback {display: none;}</style><div id=\"sk-container-id-8\" class=\"sk-top-container\"><div class=\"sk-text-repr-fallback\"><pre>RandomForestRegressor(random_state=42)</pre><b>In a Jupyter environment, please rerun this cell to show the HTML representation or trust the notebook. <br />On GitHub, the HTML representation is unable to render, please try loading this page with nbviewer.org.</b></div><div class=\"sk-container\" hidden><div class=\"sk-item\"><div class=\"sk-estimator sk-toggleable\"><input class=\"sk-toggleable__control sk-hidden--visually\" id=\"sk-estimator-id-8\" type=\"checkbox\" checked><label for=\"sk-estimator-id-8\" class=\"sk-toggleable__label sk-toggleable__label-arrow\">RandomForestRegressor</label><div class=\"sk-toggleable__content\"><pre>RandomForestRegressor(random_state=42)</pre></div></div></div></div></div>"
      ],
      "text/plain": [
       "RandomForestRegressor(random_state=42)"
      ]
     },
     "execution_count": 83,
     "metadata": {},
     "output_type": "execute_result"
    }
   ],
   "source": [
    "# Initialize and train the random forest regressor\n",
    "model = RandomForestRegressor(n_estimators=100, random_state=42)\n",
    "model.fit(X_train, y_train)"
   ]
  },
  {
   "cell_type": "code",
   "execution_count": 84,
   "metadata": {},
   "outputs": [
    {
     "name": "stdout",
     "output_type": "stream",
     "text": [
      "Mean Squared Error: 4.993744625407185\n"
     ]
    }
   ],
   "source": [
    "# Predict and evaluate the model\n",
    "y_pred = model.predict(X_test)\n",
    "mse = mean_squared_error(y_test, y_pred)\n",
    "\n",
    "print(f'Mean Squared Error: {mse}')"
   ]
  },
  {
   "cell_type": "code",
   "execution_count": 85,
   "metadata": {},
   "outputs": [
    {
     "data": {
      "image/png": "[encoded data removed]",
      "text/plain": [
       "<Figure size 640x480 with 1 Axes>"
      ]
     },
     "metadata": {},
     "output_type": "display_data"
    }
   ],
   "source": [
    "X_column = X[:, 0]\n",
    "\n",
    "# Create the grid of values for the selected feature\n",
    "X_grid = np.arange(min(X_column), max(X_column), 0.01)\n",
    "X_grid = X_grid.reshape(len(X_grid), 1)\n",
    "\n",
    "# Plot the real data points\n",
    "plt.scatter(X_column, y, color='blue')\n",
    "\n",
    "# Plot the predicted values using the model\n",
    "plt.plot(X_grid, model.predict(np.hstack([X_grid] * X.shape[1])), color='green')\n",
    "\n",
    "plt.title(\"Random Forest Regression Results\")\n",
    "plt.xlabel('Feature Value')\n",
    "plt.ylabel('Target Value')\n",
    "plt.legend(['Predicted', 'Real'])\n",
    "plt.show()"
   ]
  }
 ],
 "metadata": {
  "kernelspec": {
   "display_name": "Python 3",
   "language": "python",
   "name": "python3"
  },
  "language_info": {
   "codemirror_mode": {
    "name": "ipython",
    "version": 3
   },
   "file_extension": ".py",
   "mimetype": "text/x-python",
   "name": "python",
   "nbconvert_exporter": "python",
   "pygments_lexer": "ipython3",
   "version": "3.11.9"
  }
 },
 "nbformat": 4,
 "nbformat_minor": 2
}
