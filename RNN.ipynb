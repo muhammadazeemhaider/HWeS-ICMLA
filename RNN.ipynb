{
 "cells": [
  {
   "cell_type": "code",
   "execution_count": 52,
   "metadata": {},
   "outputs": [],
   "source": [
    "import torch\n",
    "import torch.nn as nn\n",
    "import torch.optim as optim\n",
    "from torch.utils.data import DataLoader, Dataset\n",
    "import pandas as pd\n",
    "import numpy as np\n",
    "from sklearn.preprocessing import MinMaxScaler\n",
    "import math"
   ]
  },
  {
   "cell_type": "code",
   "execution_count": 53,
   "metadata": {},
   "outputs": [],
   "source": [
    "class TimeSeriesDataset(Dataset):\n",
    "    def __init__(self, data, sequence_length):\n",
    "        self.data = data\n",
    "        self.sequence_length = sequence_length\n",
    "\n",
    "    def __len__(self):\n",
    "        return (self.data.shape[1] - self.sequence_length) * len(self.data)\n",
    "\n",
    "    def __getitem__(self, index):\n",
    "        account_idx = index // (self.data.shape[1] - self.sequence_length)\n",
    "        seq_idx = index % (self.data.shape[1] - self.sequence_length)\n",
    "        x = self.data[account_idx, seq_idx:seq_idx + self.sequence_length]\n",
    "        y = self.data[account_idx, seq_idx + self.sequence_length]\n",
    "        return torch.tensor(x, dtype=torch.float32).unsqueeze(-1), torch.tensor(y, dtype=torch.float32).unsqueeze(-1)"
   ]
  },
  {
   "cell_type": "code",
   "execution_count": 54,
   "metadata": {},
   "outputs": [],
   "source": [
    "class RNN(nn.Module):\n",
    "    def __init__(self, input_size, hidden_size, num_layers, output_size):\n",
    "        super(RNN, self).__init__()\n",
    "        self.hidden_size = hidden_size\n",
    "        self.num_layers = num_layers\n",
    "        self.rnn = nn.RNN(input_size, hidden_size, num_layers, batch_first=True)\n",
    "        self.fc = nn.Linear(hidden_size, output_size)\n",
    "\n",
    "    def forward(self, x):\n",
    "        h0 = torch.zeros(self.num_layers, x.size(0), self.hidden_size).to(x.device)\n",
    "        out, _ = self.rnn(x, h0)\n",
    "        out = self.fc(out[:, -1, :])\n",
    "        return out"
   ]
  },
  {
   "cell_type": "code",
   "execution_count": 55,
   "metadata": {},
   "outputs": [],
   "source": [
    "data = pd.read_csv('Data.csv')\n",
    "data = data.drop(columns=['Account No'])  # Drop the account number column\n",
    "data = data.values  # Convert to numpy array"
   ]
  },
  {
   "cell_type": "code",
   "execution_count": 56,
   "metadata": {},
   "outputs": [],
   "source": [
    "scaler = MinMaxScaler()\n",
    "data = scaler.fit_transform(data.T).T  # Normalize each time series"
   ]
  },
  {
   "cell_type": "code",
   "execution_count": 57,
   "metadata": {},
   "outputs": [],
   "source": [
    "sequence_length = 5\n",
    "dataset = TimeSeriesDataset(data, sequence_length)\n",
    "dataloader = DataLoader(dataset, batch_size=1, shuffle=True)"
   ]
  },
  {
   "cell_type": "code",
   "execution_count": 58,
   "metadata": {},
   "outputs": [],
   "source": [
    "input_size = 1\n",
    "hidden_size = 64\n",
    "num_layers = 2\n",
    "output_size = 1\n",
    "num_epochs = 30\n",
    "learning_rate = 0.001"
   ]
  },
  {
   "cell_type": "code",
   "execution_count": 59,
   "metadata": {},
   "outputs": [],
   "source": [
    "model = RNN(input_size, hidden_size, num_layers, output_size)\n",
    "criterion = nn.MSELoss()\n",
    "optimizer = optim.Adam(model.parameters(), lr=learning_rate)"
   ]
  },
  {
   "cell_type": "code",
   "execution_count": 60,
   "metadata": {},
   "outputs": [
    {
     "name": "stdout",
     "output_type": "stream",
     "text": [
      "Epoch [1/30], Loss: 0.0047, RMSE: 0.2299\n",
      "Epoch [2/30], Loss: 0.1220, RMSE: 0.2187\n",
      "Epoch [3/30], Loss: 0.0104, RMSE: 0.2143\n",
      "Epoch [4/30], Loss: 0.0116, RMSE: 0.2126\n",
      "Epoch [5/30], Loss: 0.0550, RMSE: 0.2120\n",
      "Epoch [6/30], Loss: 0.0057, RMSE: 0.2115\n",
      "Epoch [7/30], Loss: 0.0504, RMSE: 0.2115\n",
      "Epoch [8/30], Loss: 0.1243, RMSE: 0.2107\n",
      "Epoch [9/30], Loss: 0.0018, RMSE: 0.2107\n",
      "Epoch [10/30], Loss: 0.0218, RMSE: 0.2104\n",
      "Epoch [11/30], Loss: 0.1268, RMSE: 0.2104\n",
      "Epoch [12/30], Loss: 0.0142, RMSE: 0.2099\n",
      "Epoch [13/30], Loss: 0.0593, RMSE: 0.2099\n",
      "Epoch [14/30], Loss: 0.0407, RMSE: 0.2101\n",
      "Epoch [15/30], Loss: 0.0164, RMSE: 0.2096\n",
      "Epoch [16/30], Loss: 0.0189, RMSE: 0.2097\n",
      "Epoch [17/30], Loss: 0.0008, RMSE: 0.2093\n",
      "Epoch [18/30], Loss: 0.0511, RMSE: 0.2092\n",
      "Epoch [19/30], Loss: 0.0034, RMSE: 0.2092\n",
      "Epoch [20/30], Loss: 0.3216, RMSE: 0.2090\n",
      "Epoch [21/30], Loss: 0.0474, RMSE: 0.2088\n",
      "Epoch [22/30], Loss: 0.0118, RMSE: 0.2088\n",
      "Epoch [23/30], Loss: 0.1259, RMSE: 0.2085\n",
      "Epoch [24/30], Loss: 0.0030, RMSE: 0.2089\n",
      "Epoch [25/30], Loss: 0.0137, RMSE: 0.2090\n",
      "Epoch [26/30], Loss: 0.0143, RMSE: 0.2086\n",
      "Epoch [27/30], Loss: 0.0090, RMSE: 0.2087\n",
      "Epoch [28/30], Loss: 0.0011, RMSE: 0.2085\n",
      "Epoch [29/30], Loss: 0.0091, RMSE: 0.2087\n",
      "Epoch [30/30], Loss: 0.0062, RMSE: 0.2089\n",
      "Training complete.\n"
     ]
    }
   ],
   "source": [
    "for epoch in range(num_epochs):\n",
    "    epoch_loss = 0.0\n",
    "    for sequences, targets in dataloader:\n",
    "        sequences = sequences.view(-1, sequence_length, input_size)\n",
    "        targets = targets.view(-1, output_size)  # Ensure target shape is (batch_size, output_size)\n",
    "        outputs = model(sequences)\n",
    "        loss = criterion(outputs, targets)\n",
    "\n",
    "        optimizer.zero_grad()\n",
    "        loss.backward()\n",
    "        optimizer.step()\n",
    "        \n",
    "        epoch_loss += loss.item()\n",
    "    \n",
    "    if (epoch+1) % 1 == 0:\n",
    "        rmse = math.sqrt(epoch_loss / len(dataloader))\n",
    "        print(f'Epoch [{epoch+1}/{num_epochs}], Loss: {loss.item():.4f}, RMSE: {rmse:.4f}')\n",
    "\n",
    "print(\"Training complete.\")"
   ]
  },
  {
   "cell_type": "code",
   "execution_count": 61,
   "metadata": {},
   "outputs": [],
   "source": [
    "torch.save(model.state_dict(), 'rnn_model.pth')"
   ]
  },
  {
   "cell_type": "code",
   "execution_count": 2,
   "metadata": {},
   "outputs": [],
   "source": [
    "from graphviz import Digraph\n",
    "\n",
    "def trace(root):\n",
    "  # builds a set of all nodes and edges in a graph\n",
    "  nodes, edges = set(), set()\n",
    "  def build(v):\n",
    "    if v not in nodes:\n",
    "      nodes.add(v)\n",
    "      for child in v._prev:\n",
    "        edges.add((child, v))\n",
    "        build(child)\n",
    "  build(root)\n",
    "  return nodes, edges\n",
    "\n",
    "def draw_dot(root):\n",
    "  dot = Digraph(format='svg', graph_attr={'rankdir': 'LR'}) # LR = left to right\n",
    "  \n",
    "  nodes, edges = trace(root)\n",
    "  for n in nodes:\n",
    "    uid = str(id(n))\n",
    "    # for any value in the graph, create a rectangular ('record') node for it\n",
    "    dot.node(name = uid, label = \"{ %s | data %.4f | grad %.4f }\" % (n.label, n.data, n.grad), shape='record')\n",
    "    if n._op:\n",
    "      # if this value is a result of some operation, create an op node for it\n",
    "      dot.node(name = uid + n._op, label = n._op)\n",
    "      # and connect this node to it\n",
    "      dot.edge(uid + n._op, uid)\n",
    "\n",
    "  for n1, n2 in edges:\n",
    "    # connect n1 to the op node of n2\n",
    "    dot.edge(str(id(n1)), str(id(n2)) + n2._op)\n",
    "\n",
    "  return dot"
   ]
  }
 ],
 "metadata": {
  "kernelspec": {
   "display_name": "Python 3",
   "language": "python",
   "name": "python3"
  },
  "language_info": {
   "codemirror_mode": {
    "name": "ipython",
    "version": 3
   },
   "file_extension": ".py",
   "mimetype": "text/x-python",
   "name": "python",
   "nbconvert_exporter": "python",
   "pygments_lexer": "ipython3",
   "version": "3.11.9"
  }
 },
 "nbformat": 4,
 "nbformat_minor": 2
}
